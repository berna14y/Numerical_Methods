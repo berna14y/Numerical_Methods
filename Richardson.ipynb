{
 "cells": [
  {
   "cell_type": "code",
   "execution_count": 91,
   "metadata": {
    "id": "x0Hlv16nvJu7"
   },
   "outputs": [],
   "source": [
    "import numpy as np\n",
    "from scipy.linalg import toeplitz"
   ]
  },
  {
   "cell_type": "code",
   "execution_count": 92,
   "metadata": {
    "id": "mBfvPk0lwJgS"
   },
   "outputs": [],
   "source": [
    "A=toeplitz([2,-1,0,0,0,0,0,0,0,0,0,0,0,0,0,0,0,0,0,0])"
   ]
  },
  {
   "cell_type": "code",
   "execution_count": 93,
   "metadata": {
    "colab": {
     "base_uri": "https://localhost:8080/"
    },
    "id": "cROC1wtGeAPg",
    "outputId": "ef77d2a7-0197-4931-9039-98274f9b433f"
   },
   "outputs": [
    {
     "data": {
      "text/plain": [
       "array([[ 2, -1,  0,  0,  0,  0,  0,  0,  0,  0,  0,  0,  0,  0,  0,  0,\n",
       "         0,  0,  0,  0],\n",
       "       [-1,  2, -1,  0,  0,  0,  0,  0,  0,  0,  0,  0,  0,  0,  0,  0,\n",
       "         0,  0,  0,  0],\n",
       "       [ 0, -1,  2, -1,  0,  0,  0,  0,  0,  0,  0,  0,  0,  0,  0,  0,\n",
       "         0,  0,  0,  0],\n",
       "       [ 0,  0, -1,  2, -1,  0,  0,  0,  0,  0,  0,  0,  0,  0,  0,  0,\n",
       "         0,  0,  0,  0],\n",
       "       [ 0,  0,  0, -1,  2, -1,  0,  0,  0,  0,  0,  0,  0,  0,  0,  0,\n",
       "         0,  0,  0,  0],\n",
       "       [ 0,  0,  0,  0, -1,  2, -1,  0,  0,  0,  0,  0,  0,  0,  0,  0,\n",
       "         0,  0,  0,  0],\n",
       "       [ 0,  0,  0,  0,  0, -1,  2, -1,  0,  0,  0,  0,  0,  0,  0,  0,\n",
       "         0,  0,  0,  0],\n",
       "       [ 0,  0,  0,  0,  0,  0, -1,  2, -1,  0,  0,  0,  0,  0,  0,  0,\n",
       "         0,  0,  0,  0],\n",
       "       [ 0,  0,  0,  0,  0,  0,  0, -1,  2, -1,  0,  0,  0,  0,  0,  0,\n",
       "         0,  0,  0,  0],\n",
       "       [ 0,  0,  0,  0,  0,  0,  0,  0, -1,  2, -1,  0,  0,  0,  0,  0,\n",
       "         0,  0,  0,  0],\n",
       "       [ 0,  0,  0,  0,  0,  0,  0,  0,  0, -1,  2, -1,  0,  0,  0,  0,\n",
       "         0,  0,  0,  0],\n",
       "       [ 0,  0,  0,  0,  0,  0,  0,  0,  0,  0, -1,  2, -1,  0,  0,  0,\n",
       "         0,  0,  0,  0],\n",
       "       [ 0,  0,  0,  0,  0,  0,  0,  0,  0,  0,  0, -1,  2, -1,  0,  0,\n",
       "         0,  0,  0,  0],\n",
       "       [ 0,  0,  0,  0,  0,  0,  0,  0,  0,  0,  0,  0, -1,  2, -1,  0,\n",
       "         0,  0,  0,  0],\n",
       "       [ 0,  0,  0,  0,  0,  0,  0,  0,  0,  0,  0,  0,  0, -1,  2, -1,\n",
       "         0,  0,  0,  0],\n",
       "       [ 0,  0,  0,  0,  0,  0,  0,  0,  0,  0,  0,  0,  0,  0, -1,  2,\n",
       "        -1,  0,  0,  0],\n",
       "       [ 0,  0,  0,  0,  0,  0,  0,  0,  0,  0,  0,  0,  0,  0,  0, -1,\n",
       "         2, -1,  0,  0],\n",
       "       [ 0,  0,  0,  0,  0,  0,  0,  0,  0,  0,  0,  0,  0,  0,  0,  0,\n",
       "        -1,  2, -1,  0],\n",
       "       [ 0,  0,  0,  0,  0,  0,  0,  0,  0,  0,  0,  0,  0,  0,  0,  0,\n",
       "         0, -1,  2, -1],\n",
       "       [ 0,  0,  0,  0,  0,  0,  0,  0,  0,  0,  0,  0,  0,  0,  0,  0,\n",
       "         0,  0, -1,  2]])"
      ]
     },
     "execution_count": 93,
     "metadata": {},
     "output_type": "execute_result"
    }
   ],
   "source": [
    "A"
   ]
  },
  {
   "cell_type": "markdown",
   "metadata": {
    "id": "ygtpdmCDQnjr"
   },
   "source": [
    "To find optimal alpha use 2 / (max lambda+ min lambda)"
   ]
  },
  {
   "cell_type": "code",
   "execution_count": 58,
   "metadata": {
    "colab": {
     "base_uri": "https://localhost:8080/"
    },
    "id": "g_dvzTjlQ78A",
    "outputId": "222535ec-e75a-47a5-ac7e-7bc88b281ee4"
   },
   "outputs": [
    {
     "data": {
      "text/plain": [
       "array([3.97766165, 3.91114561, 3.80193774, 3.65247755, 3.46610374,\n",
       "       3.2469796 , 3.        , 2.73068205, 2.44504187, 2.14946019,\n",
       "       1.85053981, 1.55495813, 1.26931795, 0.02233835, 0.08885439,\n",
       "       0.19806226, 0.34752245, 0.53389626, 0.7530204 , 1.        ])"
      ]
     },
     "execution_count": 58,
     "metadata": {},
     "output_type": "execute_result"
    }
   ],
   "source": [
    "np.linalg.eigvals(A)"
   ]
  },
  {
   "cell_type": "code",
   "execution_count": 59,
   "metadata": {
    "id": "0hrNLVUuRRjR"
   },
   "outputs": [],
   "source": [
    "alpha_opt = 2 / (3.97766165+0.02233835)"
   ]
  },
  {
   "cell_type": "code",
   "execution_count": 60,
   "metadata": {
    "id": "o6Qo1oiNgOTC"
   },
   "outputs": [],
   "source": [
    "def richardson(A, b, x, alpha,n):\n",
    "\n",
    "    for k in range(n):\n",
    "        for i in range(len(b)):\n",
    "            x[i] = (1 - alpha) * x[i] + alpha * (b[i] - np.dot(A[i, :i], x[:i]) - np.dot(A[i, i+1:], x[i+1:])) / A[i, i]\n",
    "      \n",
    "    return x"
   ]
  },
  {
   "cell_type": "code",
   "execution_count": 61,
   "metadata": {
    "colab": {
     "base_uri": "https://localhost:8080/"
    },
    "id": "Sm3SEBX7QHkE",
    "outputId": "0cf5edb7-16ee-4b3e-e0aa-a2ae5348998a"
   },
   "outputs": [
    {
     "data": {
      "text/plain": [
       "[4.738714818362029,\n",
       " 9.460464011350991,\n",
       " 14.124254534477496,\n",
       " 18.684444019955947,\n",
       " 23.089416908409717,\n",
       " 27.280541125234947,\n",
       " 31.19139272403188,\n",
       " 34.747222653796285,\n",
       " 37.86464012277351,\n",
       " 40.451496417128965,\n",
       " 42.406965869452875,\n",
       " 43.62183144990627,\n",
       " 43.978985895064326,\n",
       " 43.35415071444943,\n",
       " 41.616792717036645,\n",
       " 38.631184600157084,\n",
       " 34.25752393349652,\n",
       " 28.353009385205986,\n",
       " 20.772786631361726,\n",
       " 11.370719457874944]"
      ]
     },
     "execution_count": 61,
     "metadata": {},
     "output_type": "execute_result"
    }
   ],
   "source": [
    "richardson(A, b, x_0, alpha_opt,25)"
   ]
  }
 ],
 "metadata": {
  "colab": {
   "provenance": []
  },
  "kernelspec": {
   "display_name": "Python 3 (ipykernel)",
   "language": "python",
   "name": "python3"
  },
  "language_info": {
   "codemirror_mode": {
    "name": "ipython",
    "version": 3
   },
   "file_extension": ".py",
   "mimetype": "text/x-python",
   "name": "python",
   "nbconvert_exporter": "python",
   "pygments_lexer": "ipython3",
   "version": "3.11.4"
  }
 },
 "nbformat": 4,
 "nbformat_minor": 1
}
