{
 "cells": [
  {
   "cell_type": "markdown",
   "metadata": {
    "id": "wqnddg6z6PNs"
   },
   "source": [
    "**1. QUESTION**"
   ]
  },
  {
   "cell_type": "code",
   "execution_count": 91,
   "metadata": {
    "id": "x0Hlv16nvJu7"
   },
   "outputs": [],
   "source": [
    "import numpy as np\n",
    "from scipy.linalg import toeplitz"
   ]
  },
  {
   "cell_type": "code",
   "execution_count": 92,
   "metadata": {
    "id": "mBfvPk0lwJgS"
   },
   "outputs": [],
   "source": [
    "A=toeplitz([2,-1,0,0,0,0,0,0,0,0,0,0,0,0,0,0,0,0,0,0])"
   ]
  },
  {
   "cell_type": "code",
   "execution_count": 93,
   "metadata": {
    "colab": {
     "base_uri": "https://localhost:8080/"
    },
    "id": "cROC1wtGeAPg",
    "outputId": "ef77d2a7-0197-4931-9039-98274f9b433f"
   },
   "outputs": [
    {
     "data": {
      "text/plain": [
       "array([[ 2, -1,  0,  0,  0,  0,  0,  0,  0,  0,  0,  0,  0,  0,  0,  0,\n",
       "         0,  0,  0,  0],\n",
       "       [-1,  2, -1,  0,  0,  0,  0,  0,  0,  0,  0,  0,  0,  0,  0,  0,\n",
       "         0,  0,  0,  0],\n",
       "       [ 0, -1,  2, -1,  0,  0,  0,  0,  0,  0,  0,  0,  0,  0,  0,  0,\n",
       "         0,  0,  0,  0],\n",
       "       [ 0,  0, -1,  2, -1,  0,  0,  0,  0,  0,  0,  0,  0,  0,  0,  0,\n",
       "         0,  0,  0,  0],\n",
       "       [ 0,  0,  0, -1,  2, -1,  0,  0,  0,  0,  0,  0,  0,  0,  0,  0,\n",
       "         0,  0,  0,  0],\n",
       "       [ 0,  0,  0,  0, -1,  2, -1,  0,  0,  0,  0,  0,  0,  0,  0,  0,\n",
       "         0,  0,  0,  0],\n",
       "       [ 0,  0,  0,  0,  0, -1,  2, -1,  0,  0,  0,  0,  0,  0,  0,  0,\n",
       "         0,  0,  0,  0],\n",
       "       [ 0,  0,  0,  0,  0,  0, -1,  2, -1,  0,  0,  0,  0,  0,  0,  0,\n",
       "         0,  0,  0,  0],\n",
       "       [ 0,  0,  0,  0,  0,  0,  0, -1,  2, -1,  0,  0,  0,  0,  0,  0,\n",
       "         0,  0,  0,  0],\n",
       "       [ 0,  0,  0,  0,  0,  0,  0,  0, -1,  2, -1,  0,  0,  0,  0,  0,\n",
       "         0,  0,  0,  0],\n",
       "       [ 0,  0,  0,  0,  0,  0,  0,  0,  0, -1,  2, -1,  0,  0,  0,  0,\n",
       "         0,  0,  0,  0],\n",
       "       [ 0,  0,  0,  0,  0,  0,  0,  0,  0,  0, -1,  2, -1,  0,  0,  0,\n",
       "         0,  0,  0,  0],\n",
       "       [ 0,  0,  0,  0,  0,  0,  0,  0,  0,  0,  0, -1,  2, -1,  0,  0,\n",
       "         0,  0,  0,  0],\n",
       "       [ 0,  0,  0,  0,  0,  0,  0,  0,  0,  0,  0,  0, -1,  2, -1,  0,\n",
       "         0,  0,  0,  0],\n",
       "       [ 0,  0,  0,  0,  0,  0,  0,  0,  0,  0,  0,  0,  0, -1,  2, -1,\n",
       "         0,  0,  0,  0],\n",
       "       [ 0,  0,  0,  0,  0,  0,  0,  0,  0,  0,  0,  0,  0,  0, -1,  2,\n",
       "        -1,  0,  0,  0],\n",
       "       [ 0,  0,  0,  0,  0,  0,  0,  0,  0,  0,  0,  0,  0,  0,  0, -1,\n",
       "         2, -1,  0,  0],\n",
       "       [ 0,  0,  0,  0,  0,  0,  0,  0,  0,  0,  0,  0,  0,  0,  0,  0,\n",
       "        -1,  2, -1,  0],\n",
       "       [ 0,  0,  0,  0,  0,  0,  0,  0,  0,  0,  0,  0,  0,  0,  0,  0,\n",
       "         0, -1,  2, -1],\n",
       "       [ 0,  0,  0,  0,  0,  0,  0,  0,  0,  0,  0,  0,  0,  0,  0,  0,\n",
       "         0,  0, -1,  2]])"
      ]
     },
     "execution_count": 93,
     "metadata": {},
     "output_type": "execute_result"
    }
   ],
   "source": [
    "A"
   ]
  },
  {
   "cell_type": "markdown",
   "metadata": {
    "id": "1-sTgw7LARRu"
   },
   "source": [
    "##1) a##"
   ]
  },
  {
   "cell_type": "markdown",
   "metadata": {
    "id": "bR9IHKJs_qSs"
   },
   "source": [
    "To check whether this matrix is (strictly) diagonal dominant, we need to check whether diagonal elements are (strictly) larger than the sum of the absolute values of the other elements in their respective rows. If this is the case, the matrix is (strictly) diagonal dominant."
   ]
  },
  {
   "cell_type": "code",
   "execution_count": 94,
   "metadata": {
    "id": "3Gzab0EZ-H43"
   },
   "outputs": [],
   "source": [
    "def diagonally_dominant(A):\n",
    "  # Get the dimensions of the matrix\n",
    "    m, n = len(A), len(A[0])\n",
    "\n",
    "    if m != n:\n",
    "        return False\n",
    "\n",
    "    for i in range(m):\n",
    "    # Calculate the sum of the absolute values of the other elements in the same row\n",
    "        row_sum = sum(abs(A[i][j]) for j in range(n) if j != i)\n",
    "\n",
    "    # Check if the main diagonal element is larger than the row sum\n",
    "        if A[i][i] < row_sum:\n",
    "            return False\n",
    "    return True"
   ]
  },
  {
   "cell_type": "code",
   "execution_count": 95,
   "metadata": {
    "colab": {
     "base_uri": "https://localhost:8080/"
    },
    "id": "ZmPg19---8tB",
    "outputId": "c13bbbed-d7dd-429b-c6db-745d9bb96c12"
   },
   "outputs": [
    {
     "data": {
      "text/plain": [
       "True"
      ]
     },
     "execution_count": 95,
     "metadata": {},
     "output_type": "execute_result"
    }
   ],
   "source": [
    " diagonally_dominant(A)"
   ]
  },
  {
   "cell_type": "markdown",
   "metadata": {
    "id": "spPcchLkAcXf"
   },
   "source": [
    "The condition number of a matrix is a measure of how sensitive the output of a linear system is to changes in the input. It is defined as the ratio of the maximum singular value of the matrix to the minimum singular value."
   ]
  },
  {
   "cell_type": "code",
   "execution_count": 96,
   "metadata": {
    "colab": {
     "base_uri": "https://localhost:8080/"
    },
    "id": "i15D-pyBAiay",
    "outputId": "5c898f7f-5e7e-45f4-de59-3b5d3e6fbe0b"
   },
   "outputs": [
    {
     "name": "stdout",
     "output_type": "stream",
     "text": [
      "178.06427461086128\n"
     ]
    }
   ],
   "source": [
    "import numpy as np\n",
    "\n",
    "def condition_number(A):\n",
    "  # Compute the singular values of the matrix\n",
    "  s = np.linalg.svd(A, compute_uv=False)\n",
    "\n",
    "  # Return the condition number\n",
    "  return np.max(s) / np.min(s)\n",
    "  \n",
    "print(condition_number(A))"
   ]
  },
  {
   "cell_type": "markdown",
   "metadata": {
    "id": "2JlZXiVL6ofi"
   },
   "source": [
    "## Jacobi Method"
   ]
  },
  {
   "cell_type": "code",
   "execution_count": 128,
   "metadata": {
    "id": "G_dcLBOGSsT6"
   },
   "outputs": [],
   "source": [
    "def jacobi(A,b,x,n):\n",
    "    \n",
    "    B = A - np.diag(np.diagonal(A))\n",
    "    \n",
    "    for k in range(n):\n",
    "        \n",
    "        x = (b - np.dot(B, x)) / np.diagonal(A) \n",
    "         \n",
    "    return x\n"
   ]
  },
  {
   "cell_type": "code",
   "execution_count": 97,
   "metadata": {
    "id": "LRZYTPS8QP5s"
   },
   "outputs": [],
   "source": [
    "x_0=[1,1,1,1,1,1,1,1,1,1,1,1,1,1,1,1,1,1,1,1]"
   ]
  },
  {
   "cell_type": "code",
   "execution_count": 98,
   "metadata": {
    "id": "IFvEhYjcQaMq"
   },
   "outputs": [],
   "source": [
    "b=[0.1,0.2,0.3,0.4,0.5,0.6,0.7,0.8,0.9,1.0,1.1,1.2,1.3,1.4,1.5,1.6,1.7,1.8,1.9,2.0]"
   ]
  },
  {
   "cell_type": "code",
   "execution_count": 99,
   "metadata": {
    "colab": {
     "base_uri": "https://localhost:8080/"
    },
    "id": "JQjCywc-Q8TF",
    "outputId": "9f9fb91a-499d-4ab1-be13-881df0bcd3e2"
   },
   "outputs": [
    {
     "data": {
      "text/plain": [
       "array([ 1.40493084,  2.80977272,  4.1922914 ,  5.57417377,  6.91951157,\n",
       "        8.26173091,  9.56218178, 10.8503757 , 12.09027152, 13.29038943,\n",
       "       14.41178539, 15.42437486, 16.26932708, 16.85934784, 17.09153516,\n",
       "       16.80519307, 15.83107148, 13.93037759, 10.85926207,  6.31692667])"
      ]
     },
     "execution_count": 99,
     "metadata": {},
     "output_type": "execute_result"
    }
   ],
   "source": [
    "jacobi(A,b,x_0,25)"
   ]
  },
  {
   "cell_type": "markdown",
   "metadata": {
    "id": "Cd27oCBbTgB1"
   },
   "source": [
    "## Gauss Seidal Method"
   ]
  },
  {
   "cell_type": "code",
   "execution_count": 127,
   "metadata": {
    "id": "3Z2m9y7aTfY9"
   },
   "outputs": [],
   "source": [
    "def gauss_seidel(A, b,x,n):\n",
    "    for k in range(n):\n",
    "        for i in range(20):\n",
    "            x[i] = (b[i] - np.dot(A[i,:i], x[:i]) - np.dot(A[i,(i+1):], x[(i+1):])) / A[i ,i]\n",
    "       \n",
    "    return x"
   ]
  },
  {
   "cell_type": "markdown",
   "metadata": {
    "id": "yoOxvCZbxe0b"
   },
   "source": []
  },
  {
   "cell_type": "code",
   "execution_count": 101,
   "metadata": {
    "colab": {
     "base_uri": "https://localhost:8080/"
    },
    "id": "mtCNnkUUULAB",
    "outputId": "fd039304-d112-4534-8bd5-df0050bb9682"
   },
   "outputs": [
    {
     "data": {
      "text/plain": [
       "[2.139200782576765,\n",
       " 4.351227848156034,\n",
       " 6.622857117667845,\n",
       " 8.940488077465847,\n",
       " 11.289084431634386,\n",
       " 13.650535424086957,\n",
       " 16.00141779450943,\n",
       " 18.31022310539526,\n",
       " 20.534211090699927,\n",
       " 22.61613826621353,\n",
       " 24.481173337624796,\n",
       " 26.03433242274984,\n",
       " 27.15874129659651,\n",
       " 27.714961666056332,\n",
       " 27.54151506540629,\n",
       " 26.45661790381198,\n",
       " 24.26102271150541,\n",
       " 20.741760022574915,\n",
       " 15.676504344698563,\n",
       " 8.838252172349282]"
      ]
     },
     "execution_count": 101,
     "metadata": {},
     "output_type": "execute_result"
    }
   ],
   "source": [
    "gauss_seidel(A,b,x_0,25)"
   ]
  },
  {
   "cell_type": "markdown",
   "metadata": {
    "id": "t7uQXQQQZoU4"
   },
   "source": [
    "### Comparison"
   ]
  },
  {
   "cell_type": "markdown",
   "metadata": {
    "id": "1VNoP1nGBeli"
   },
   "source": [
    "\n",
    "To see how the Jacobi and Gauss Seidal methods converge, let's first look at the relationship to the real value.\n",
    "\n",
    "Based on the results from the real value ​​and methods, we can identify the errors and see which method converges better."
   ]
  },
  {
   "cell_type": "code",
   "execution_count": 130,
   "metadata": {
    "colab": {
     "base_uri": "https://localhost:8080/"
    },
    "id": "hoK69iy19I4I",
    "outputId": "703beda6-4ed5-4cf6-ca4a-0cb05c9c03e3"
   },
   "outputs": [
    {
     "data": {
      "text/plain": [
       "array([ 7.33333333, 14.56666667, 21.6       , 28.33333333, 34.66666667,\n",
       "       40.5       , 45.73333333, 50.26666667, 54.        , 56.83333333,\n",
       "       58.66666667, 59.4       , 58.93333333, 57.16666667, 54.        ,\n",
       "       49.33333333, 43.06666667, 35.1       , 25.33333333, 13.66666667])"
      ]
     },
     "execution_count": 130,
     "metadata": {},
     "output_type": "execute_result"
    }
   ],
   "source": [
    "np.linalg.solve(A, b)"
   ]
  },
  {
   "cell_type": "code",
   "execution_count": 131,
   "metadata": {
    "colab": {
     "base_uri": "https://localhost:8080/",
     "height": 427
    },
    "id": "LQ6TeRp9VfXL",
    "outputId": "a6a4e81d-1b30-4809-b358-6012bc5f5f02"
   },
   "outputs": [
    {
     "name": "stdout",
     "output_type": "stream",
     "text": [
      "Error from Jacobi method [0.07862353 0.15530673 0.22815569 0.29542467 0.35550003 0.40702858\n",
      " 0.44885497 0.48014221 0.50028759 0.50901382 0.50628031 0.49234415\n",
      " 0.46766878 0.4329692  0.38911237 0.3371629  0.2782754  0.2137456\n",
      " 0.14490846 0.07318324]\n",
      "Error from Gauss Seidal method [0.06369823 0.12456653 0.18131566 0.23277651 0.27792343 0.31589379\n",
      " 0.34600356 0.3677585  0.38086095 0.38521205 0.38090956 0.36824126\n",
      " 0.34767442 0.31984133 0.28552169 0.24562195 0.20115237 0.15320231\n",
      " 0.10291422 0.05145711]\n"
     ]
    },
    {
     "data": {
      "image/png": "[encoded data removed]",
      "text/plain": [
       "<Figure size 432x288 with 1 Axes>"
      ]
     },
     "metadata": {
      "needs_background": "light"
     },
     "output_type": "display_data"
    }
   ],
   "source": [
    "\n",
    "import matplotlib.pyplot as plt\n",
    "\n",
    "x_actual = np.linalg.solve(A, b)\n",
    "x_jacobi = jacobi(A,b,x_0,25)\n",
    "x_gauss_seidel = gauss_seidel(A,b,x_0,25)\n",
    "\n",
    "\n",
    "jacobi_error = np.abs(x_actual - x_jacobi)\n",
    "gauss_seidel_error = np.abs(x_actual - x_gauss_seidel)\n",
    "\n",
    "print(\"Error from Jacobi method\", jacobi_error)\n",
    "print(\"Error from Gauss Seidal method\", gauss_seidel_error)\n",
    "\n",
    "plt.plot(jacobi_error, label='Jacobi Metod')\n",
    "plt.plot(gauss_seidel_error, label='Gauss-Seidel Method')\n",
    "\n",
    "plt.legend()\n",
    "plt.xlabel('Iteration')\n",
    "plt.ylabel('Error')\n",
    "\n",
    "plt.show()\n",
    "\n"
   ]
  },
  {
   "cell_type": "markdown",
   "metadata": {
    "id": "cgV2bwHrC8MV"
   },
   "source": [
    "As we see from the graph, Gauss-Seidel Method converges faster than Jacobi Method here"
   ]
  }
 ],
 "metadata": {
  "colab": {
   "provenance": []
  },
  "kernelspec": {
   "display_name": "Python 3 (ipykernel)",
   "language": "python",
   "name": "python3"
  },
  "language_info": {
   "codemirror_mode": {
    "name": "ipython",
    "version": 3
   },
   "file_extension": ".py",
   "mimetype": "text/x-python",
   "name": "python",
   "nbconvert_exporter": "python",
   "pygments_lexer": "ipython3",
   "version": "3.11.4"
  }
 },
 "nbformat": 4,
 "nbformat_minor": 1
}
