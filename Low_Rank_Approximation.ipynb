{
 "cells": [
  {
   "cell_type": "code",
   "execution_count": 5,
   "metadata": {
    "id": "Y1pHEVZk8ZfG"
   },
   "outputs": [],
   "source": [
    "import numpy as np\n",
    "from scipy.linalg import toeplitz\n",
    "from scipy.linalg import svd"
   ]
  },
  {
   "cell_type": "code",
   "execution_count": 2,
   "metadata": {
    "id": "WH1rNYDc8ZfH"
   },
   "outputs": [],
   "source": [
    "import warnings; warnings.simplefilter(\"always\")"
   ]
  },
  {
   "cell_type": "code",
   "execution_count": 22,
   "metadata": {
    "colab": {
     "base_uri": "https://localhost:8080/"
    },
    "id": "Ei9-vfDD8ZfI",
    "outputId": "28108a2b-577d-4cfe-af02-000d11119924"
   },
   "outputs": [
    {
     "data": {
      "text/plain": [
       "array([[ 2, -1,  0,  0,  0,  0,  0,  0,  0,  0,  0,  0,  0,  0,  0,  0,\n",
       "         0,  0,  0,  0],\n",
       "       [-1,  2, -1,  0,  0,  0,  0,  0,  0,  0,  0,  0,  0,  0,  0,  0,\n",
       "         0,  0,  0,  0],\n",
       "       [ 0, -1,  2, -1,  0,  0,  0,  0,  0,  0,  0,  0,  0,  0,  0,  0,\n",
       "         0,  0,  0,  0],\n",
       "       [ 0,  0, -1,  2, -1,  0,  0,  0,  0,  0,  0,  0,  0,  0,  0,  0,\n",
       "         0,  0,  0,  0],\n",
       "       [ 0,  0,  0, -1,  2, -1,  0,  0,  0,  0,  0,  0,  0,  0,  0,  0,\n",
       "         0,  0,  0,  0],\n",
       "       [ 0,  0,  0,  0, -1,  2, -1,  0,  0,  0,  0,  0,  0,  0,  0,  0,\n",
       "         0,  0,  0,  0],\n",
       "       [ 0,  0,  0,  0,  0, -1,  2, -1,  0,  0,  0,  0,  0,  0,  0,  0,\n",
       "         0,  0,  0,  0],\n",
       "       [ 0,  0,  0,  0,  0,  0, -1,  2, -1,  0,  0,  0,  0,  0,  0,  0,\n",
       "         0,  0,  0,  0],\n",
       "       [ 0,  0,  0,  0,  0,  0,  0, -1,  2, -1,  0,  0,  0,  0,  0,  0,\n",
       "         0,  0,  0,  0],\n",
       "       [ 0,  0,  0,  0,  0,  0,  0,  0, -1,  2, -1,  0,  0,  0,  0,  0,\n",
       "         0,  0,  0,  0],\n",
       "       [ 0,  0,  0,  0,  0,  0,  0,  0,  0, -1,  2, -1,  0,  0,  0,  0,\n",
       "         0,  0,  0,  0],\n",
       "       [ 0,  0,  0,  0,  0,  0,  0,  0,  0,  0, -1,  2, -1,  0,  0,  0,\n",
       "         0,  0,  0,  0],\n",
       "       [ 0,  0,  0,  0,  0,  0,  0,  0,  0,  0,  0, -1,  2, -1,  0,  0,\n",
       "         0,  0,  0,  0],\n",
       "       [ 0,  0,  0,  0,  0,  0,  0,  0,  0,  0,  0,  0, -1,  2, -1,  0,\n",
       "         0,  0,  0,  0],\n",
       "       [ 0,  0,  0,  0,  0,  0,  0,  0,  0,  0,  0,  0,  0, -1,  2, -1,\n",
       "         0,  0,  0,  0],\n",
       "       [ 0,  0,  0,  0,  0,  0,  0,  0,  0,  0,  0,  0,  0,  0, -1,  2,\n",
       "        -1,  0,  0,  0],\n",
       "       [ 0,  0,  0,  0,  0,  0,  0,  0,  0,  0,  0,  0,  0,  0,  0, -1,\n",
       "         2, -1,  0,  0],\n",
       "       [ 0,  0,  0,  0,  0,  0,  0,  0,  0,  0,  0,  0,  0,  0,  0,  0,\n",
       "        -1,  2, -1,  0],\n",
       "       [ 0,  0,  0,  0,  0,  0,  0,  0,  0,  0,  0,  0,  0,  0,  0,  0,\n",
       "         0, -1,  2, -1],\n",
       "       [ 0,  0,  0,  0,  0,  0,  0,  0,  0,  0,  0,  0,  0,  0,  0,  0,\n",
       "         0,  0, -1,  2]])"
      ]
     },
     "execution_count": 22,
     "metadata": {},
     "output_type": "execute_result"
    }
   ],
   "source": [
    "A=toeplitz([2,-1,0,0,0,0,0,0,0,0,0,0,0,0,0,0,0,0,0,0])\n",
    "A"
   ]
  },
  {
   "cell_type": "code",
   "execution_count": 4,
   "metadata": {
    "colab": {
     "base_uri": "https://localhost:8080/"
    },
    "id": "99dOmx5lUfyQ",
    "outputId": "dc43bf65-4b0d-437e-bdaf-783d379d409b"
   },
   "outputs": [
    {
     "data": {
      "text/plain": [
       "(20, 20)"
      ]
     },
     "execution_count": 4,
     "metadata": {},
     "output_type": "execute_result"
    }
   ],
   "source": [
    "A.shape"
   ]
  },
  {
   "cell_type": "markdown",
   "metadata": {},
   "source": [
    "## SVD (Singular Value Decomposition)"
   ]
  },
  {
   "cell_type": "code",
   "execution_count": 6,
   "metadata": {
    "id": "sillRNEH8ZfQ"
   },
   "outputs": [],
   "source": [
    "U, S, V_t = svd(A)"
   ]
  },
  {
   "cell_type": "markdown",
   "metadata": {
    "id": "OufgDWWOHJ_i"
   },
   "source": [
    "U is the left singular vectors of A"
   ]
  },
  {
   "cell_type": "code",
   "execution_count": 7,
   "metadata": {
    "colab": {
     "base_uri": "https://localhost:8080/"
    },
    "id": "BAmwmcWV8ZfQ",
    "outputId": "ad6a6034-2e3b-4888-8552-6f53d2942c2f"
   },
   "outputs": [
    {
     "data": {
      "text/plain": [
       "array([[-4.59954419e-02, -9.09634217e-02, -1.33899429e-01,\n",
       "        -1.73844344e-01,  2.09905864e-01,  2.41278434e-01,\n",
       "         2.67261242e-01,  2.87273876e-01,  3.00869286e-01,\n",
       "         3.07743773e-01, -3.07743773e-01, -3.00869286e-01,\n",
       "        -2.87273876e-01, -2.67261242e-01, -2.41278434e-01,\n",
       "        -2.09905864e-01, -1.73844344e-01, -1.33899429e-01,\n",
       "         9.09634217e-02, -4.59954419e-02],\n",
       "       [ 9.09634217e-02,  1.73844344e-01,  2.41278434e-01,\n",
       "         2.87273876e-01, -3.07743773e-01, -3.00869286e-01,\n",
       "        -2.67261242e-01, -2.09905864e-01, -1.33899429e-01,\n",
       "        -4.59954419e-02, -4.59954419e-02, -1.33899429e-01,\n",
       "        -2.09905864e-01, -2.67261242e-01, -3.00869286e-01,\n",
       "        -3.07743773e-01, -2.87273876e-01, -2.41278434e-01,\n",
       "         1.73844344e-01, -9.09634217e-02],\n",
       "       [-1.33899429e-01, -2.41278434e-01, -3.00869286e-01,\n",
       "        -3.00869286e-01,  2.41278434e-01,  1.33899429e-01,\n",
       "        -3.95074854e-16, -1.33899429e-01, -2.41278434e-01,\n",
       "        -3.00869286e-01,  3.00869286e-01,  2.41278434e-01,\n",
       "         1.33899429e-01, -2.56604352e-16, -1.33899429e-01,\n",
       "        -2.41278434e-01, -3.00869286e-01, -3.00869286e-01,\n",
       "         2.41278434e-01, -1.33899429e-01],\n",
       "       [ 1.73844344e-01,  2.87273876e-01,  3.00869286e-01,\n",
       "         2.09905864e-01, -4.59954419e-02,  1.33899429e-01,\n",
       "         2.67261242e-01,  3.07743773e-01,  2.41278434e-01,\n",
       "         9.09634217e-02,  9.09634217e-02,  2.41278434e-01,\n",
       "         3.07743773e-01,  2.67261242e-01,  1.33899429e-01,\n",
       "        -4.59954419e-02, -2.09905864e-01, -3.00869286e-01,\n",
       "         2.87273876e-01, -1.73844344e-01],\n",
       "       [-2.09905864e-01, -3.07743773e-01, -2.41278434e-01,\n",
       "        -4.59954419e-02, -1.73844344e-01, -3.00869286e-01,\n",
       "        -2.67261242e-01, -9.09634217e-02,  1.33899429e-01,\n",
       "         2.87273876e-01, -2.87273876e-01, -1.33899429e-01,\n",
       "         9.09634217e-02,  2.67261242e-01,  3.00869286e-01,\n",
       "         1.73844344e-01, -4.59954419e-02, -2.41278434e-01,\n",
       "         3.07743773e-01, -2.09905864e-01],\n",
       "       [ 2.41278434e-01,  3.00869286e-01,  1.33899429e-01,\n",
       "        -1.33899429e-01,  3.00869286e-01,  2.41278434e-01,\n",
       "        -9.34931437e-17, -2.41278434e-01, -3.00869286e-01,\n",
       "        -1.33899429e-01, -1.33899429e-01, -3.00869286e-01,\n",
       "        -2.41278434e-01,  2.31891561e-16,  2.41278434e-01,\n",
       "         3.00869286e-01,  1.33899429e-01, -1.33899429e-01,\n",
       "         3.00869286e-01, -2.41278434e-01],\n",
       "       [-2.67261242e-01, -2.67261242e-01, -7.92819836e-16,\n",
       "         2.67261242e-01, -2.67261242e-01,  6.87568280e-16,\n",
       "         2.67261242e-01,  2.67261242e-01,  6.34315357e-16,\n",
       "        -2.67261242e-01,  2.67261242e-01,  3.90513922e-16,\n",
       "        -2.67261242e-01, -2.67261242e-01, -5.66046370e-17,\n",
       "         2.67261242e-01,  2.67261242e-01,  6.02147993e-16,\n",
       "         2.67261242e-01, -2.67261242e-01],\n",
       "       [ 2.87273876e-01,  2.09905864e-01, -1.33899429e-01,\n",
       "        -3.07743773e-01,  9.09634217e-02, -2.41278434e-01,\n",
       "        -2.67261242e-01,  4.59954419e-02,  3.00869286e-01,\n",
       "         1.73844344e-01,  1.73844344e-01,  3.00869286e-01,\n",
       "         4.59954419e-02, -2.67261242e-01, -2.41278434e-01,\n",
       "         9.09634217e-02,  3.07743773e-01,  1.33899429e-01,\n",
       "         2.09905864e-01, -2.87273876e-01],\n",
       "       [-3.00869286e-01, -1.33899429e-01,  2.41278434e-01,\n",
       "         2.41278434e-01,  1.33899429e-01,  3.00869286e-01,\n",
       "        -4.06701481e-16, -3.00869286e-01, -1.33899429e-01,\n",
       "         2.41278434e-01, -2.41278434e-01,  1.33899429e-01,\n",
       "         3.00869286e-01, -6.48096256e-16, -3.00869286e-01,\n",
       "        -1.33899429e-01,  2.41278434e-01,  2.41278434e-01,\n",
       "         1.33899429e-01, -3.00869286e-01],\n",
       "       [ 3.07743773e-01,  4.59954419e-02, -3.00869286e-01,\n",
       "        -9.09634217e-02, -2.87273876e-01, -1.33899429e-01,\n",
       "         2.67261242e-01,  1.73844344e-01, -2.41278434e-01,\n",
       "        -2.09905864e-01, -2.09905864e-01, -2.41278434e-01,\n",
       "         1.73844344e-01,  2.67261242e-01, -1.33899429e-01,\n",
       "        -2.87273876e-01,  9.09634217e-02,  3.00869286e-01,\n",
       "         4.59954419e-02, -3.07743773e-01],\n",
       "       [-3.07743773e-01,  4.59954419e-02,  3.00869286e-01,\n",
       "        -9.09634217e-02,  2.87273876e-01, -1.33899429e-01,\n",
       "        -2.67261242e-01,  1.73844344e-01,  2.41278434e-01,\n",
       "        -2.09905864e-01,  2.09905864e-01, -2.41278434e-01,\n",
       "        -1.73844344e-01,  2.67261242e-01,  1.33899429e-01,\n",
       "        -2.87273876e-01, -9.09634217e-02,  3.00869286e-01,\n",
       "        -4.59954419e-02, -3.07743773e-01],\n",
       "       [ 3.00869286e-01, -1.33899429e-01, -2.41278434e-01,\n",
       "         2.41278434e-01, -1.33899429e-01,  3.00869286e-01,\n",
       "        -5.93456971e-16, -3.00869286e-01,  1.33899429e-01,\n",
       "         2.41278434e-01,  2.41278434e-01,  1.33899429e-01,\n",
       "        -3.00869286e-01,  7.45096065e-16,  3.00869286e-01,\n",
       "        -1.33899429e-01, -2.41278434e-01,  2.41278434e-01,\n",
       "        -1.33899429e-01, -3.00869286e-01],\n",
       "       [-2.87273876e-01,  2.09905864e-01,  1.33899429e-01,\n",
       "        -3.07743773e-01, -9.09634217e-02, -2.41278434e-01,\n",
       "         2.67261242e-01,  4.59954419e-02, -3.00869286e-01,\n",
       "         1.73844344e-01, -1.73844344e-01,  3.00869286e-01,\n",
       "        -4.59954419e-02, -2.67261242e-01,  2.41278434e-01,\n",
       "         9.09634217e-02, -3.07743773e-01,  1.33899429e-01,\n",
       "        -2.09905864e-01, -2.87273876e-01],\n",
       "       [ 2.67261242e-01, -2.67261242e-01,  1.27987852e-15,\n",
       "         2.67261242e-01,  2.67261242e-01, -7.74562502e-16,\n",
       "        -2.67261242e-01,  2.67261242e-01,  8.92917635e-16,\n",
       "        -2.67261242e-01, -2.67261242e-01, -1.50376755e-16,\n",
       "         2.67261242e-01, -2.67261242e-01, -8.73200820e-17,\n",
       "         2.67261242e-01, -2.67261242e-01, -5.91197442e-16,\n",
       "        -2.67261242e-01, -2.67261242e-01],\n",
       "       [-2.41278434e-01,  3.00869286e-01, -1.33899429e-01,\n",
       "        -1.33899429e-01, -3.00869286e-01,  2.41278434e-01,\n",
       "        -4.77244914e-16, -2.41278434e-01,  3.00869286e-01,\n",
       "        -1.33899429e-01,  1.33899429e-01, -3.00869286e-01,\n",
       "         2.41278434e-01, -7.09651080e-16, -2.41278434e-01,\n",
       "         3.00869286e-01, -1.33899429e-01, -1.33899429e-01,\n",
       "        -3.00869286e-01, -2.41278434e-01],\n",
       "       [ 2.09905864e-01, -3.07743773e-01,  2.41278434e-01,\n",
       "        -4.59954419e-02,  1.73844344e-01, -3.00869286e-01,\n",
       "         2.67261242e-01, -9.09634217e-02, -1.33899429e-01,\n",
       "         2.87273876e-01,  2.87273876e-01, -1.33899429e-01,\n",
       "        -9.09634217e-02,  2.67261242e-01, -3.00869286e-01,\n",
       "         1.73844344e-01,  4.59954419e-02, -2.41278434e-01,\n",
       "        -3.07743773e-01, -2.09905864e-01],\n",
       "       [-1.73844344e-01,  2.87273876e-01, -3.00869286e-01,\n",
       "         2.09905864e-01,  4.59954419e-02,  1.33899429e-01,\n",
       "        -2.67261242e-01,  3.07743773e-01, -2.41278434e-01,\n",
       "         9.09634217e-02, -9.09634217e-02,  2.41278434e-01,\n",
       "        -3.07743773e-01,  2.67261242e-01, -1.33899429e-01,\n",
       "        -4.59954419e-02,  2.09905864e-01, -3.00869286e-01,\n",
       "        -2.87273876e-01, -1.73844344e-01],\n",
       "       [ 1.33899429e-01, -2.41278434e-01,  3.00869286e-01,\n",
       "        -3.00869286e-01, -2.41278434e-01,  1.33899429e-01,\n",
       "        -1.75572869e-16, -1.33899429e-01,  2.41278434e-01,\n",
       "        -3.00869286e-01, -3.00869286e-01,  2.41278434e-01,\n",
       "        -1.33899429e-01,  3.27792130e-16,  1.33899429e-01,\n",
       "        -2.41278434e-01,  3.00869286e-01, -3.00869286e-01,\n",
       "        -2.41278434e-01, -1.33899429e-01],\n",
       "       [-9.09634217e-02,  1.73844344e-01, -2.41278434e-01,\n",
       "         2.87273876e-01,  3.07743773e-01, -3.00869286e-01,\n",
       "         2.67261242e-01, -2.09905864e-01,  1.33899429e-01,\n",
       "        -4.59954419e-02,  4.59954419e-02, -1.33899429e-01,\n",
       "         2.09905864e-01, -2.67261242e-01,  3.00869286e-01,\n",
       "        -3.07743773e-01,  2.87273876e-01, -2.41278434e-01,\n",
       "        -1.73844344e-01, -9.09634217e-02],\n",
       "       [ 4.59954419e-02, -9.09634217e-02,  1.33899429e-01,\n",
       "        -1.73844344e-01, -2.09905864e-01,  2.41278434e-01,\n",
       "        -2.67261242e-01,  2.87273876e-01, -3.00869286e-01,\n",
       "         3.07743773e-01,  3.07743773e-01, -3.00869286e-01,\n",
       "         2.87273876e-01, -2.67261242e-01,  2.41278434e-01,\n",
       "        -2.09905864e-01,  1.73844344e-01, -1.33899429e-01,\n",
       "        -9.09634217e-02, -4.59954419e-02]])"
      ]
     },
     "execution_count": 7,
     "metadata": {},
     "output_type": "execute_result"
    }
   ],
   "source": [
    "U"
   ]
  },
  {
   "cell_type": "markdown",
   "metadata": {
    "id": "IUse4HsK_VUF"
   },
   "source": [
    "S consists of singular values of A"
   ]
  },
  {
   "cell_type": "code",
   "execution_count": 8,
   "metadata": {
    "colab": {
     "base_uri": "https://localhost:8080/"
    },
    "id": "Oj0451XS8ZfQ",
    "outputId": "544cee87-81fd-4f93-8850-a5b9ce23d290"
   },
   "outputs": [
    {
     "data": {
      "text/plain": [
       "array([3.97766165, 3.91114561, 3.80193774, 3.65247755, 3.46610374,\n",
       "       3.2469796 , 3.        , 2.73068205, 2.44504187, 2.14946019,\n",
       "       1.85053981, 1.55495813, 1.26931795, 1.        , 0.7530204 ,\n",
       "       0.53389626, 0.34752245, 0.19806226, 0.08885439, 0.02233835])"
      ]
     },
     "execution_count": 8,
     "metadata": {},
     "output_type": "execute_result"
    }
   ],
   "source": [
    "S"
   ]
  },
  {
   "cell_type": "markdown",
   "metadata": {
    "id": "J6yLgqn3_ONw"
   },
   "source": [
    "V_t are the right singular vectors of A"
   ]
  },
  {
   "cell_type": "code",
   "execution_count": 9,
   "metadata": {
    "colab": {
     "base_uri": "https://localhost:8080/"
    },
    "id": "TQrq1fiq8ZfR",
    "outputId": "4aadde6d-433d-440b-f2c9-73a2367a4f3c"
   },
   "outputs": [
    {
     "data": {
      "text/plain": [
       "array([[-4.59954419e-02,  9.09634217e-02, -1.33899429e-01,\n",
       "         1.73844344e-01, -2.09905864e-01,  2.41278434e-01,\n",
       "        -2.67261242e-01,  2.87273876e-01, -3.00869286e-01,\n",
       "         3.07743773e-01, -3.07743773e-01,  3.00869286e-01,\n",
       "        -2.87273876e-01,  2.67261242e-01, -2.41278434e-01,\n",
       "         2.09905864e-01, -1.73844344e-01,  1.33899429e-01,\n",
       "        -9.09634217e-02,  4.59954419e-02],\n",
       "       [-9.09634217e-02,  1.73844344e-01, -2.41278434e-01,\n",
       "         2.87273876e-01, -3.07743773e-01,  3.00869286e-01,\n",
       "        -2.67261242e-01,  2.09905864e-01, -1.33899429e-01,\n",
       "         4.59954419e-02,  4.59954419e-02, -1.33899429e-01,\n",
       "         2.09905864e-01, -2.67261242e-01,  3.00869286e-01,\n",
       "        -3.07743773e-01,  2.87273876e-01, -2.41278434e-01,\n",
       "         1.73844344e-01, -9.09634217e-02],\n",
       "       [-1.33899429e-01,  2.41278434e-01, -3.00869286e-01,\n",
       "         3.00869286e-01, -2.41278434e-01,  1.33899429e-01,\n",
       "        -8.30564428e-16, -1.33899429e-01,  2.41278434e-01,\n",
       "        -3.00869286e-01,  3.00869286e-01, -2.41278434e-01,\n",
       "         1.33899429e-01,  1.12640235e-15, -1.33899429e-01,\n",
       "         2.41278434e-01, -3.00869286e-01,  3.00869286e-01,\n",
       "        -2.41278434e-01,  1.33899429e-01],\n",
       "       [-1.73844344e-01,  2.87273876e-01, -3.00869286e-01,\n",
       "         2.09905864e-01, -4.59954419e-02, -1.33899429e-01,\n",
       "         2.67261242e-01, -3.07743773e-01,  2.41278434e-01,\n",
       "        -9.09634217e-02, -9.09634217e-02,  2.41278434e-01,\n",
       "        -3.07743773e-01,  2.67261242e-01, -1.33899429e-01,\n",
       "        -4.59954419e-02,  2.09905864e-01, -3.00869286e-01,\n",
       "         2.87273876e-01, -1.73844344e-01],\n",
       "       [ 2.09905864e-01, -3.07743773e-01,  2.41278434e-01,\n",
       "        -4.59954419e-02, -1.73844344e-01,  3.00869286e-01,\n",
       "        -2.67261242e-01,  9.09634217e-02,  1.33899429e-01,\n",
       "        -2.87273876e-01,  2.87273876e-01, -1.33899429e-01,\n",
       "        -9.09634217e-02,  2.67261242e-01, -3.00869286e-01,\n",
       "         1.73844344e-01,  4.59954419e-02, -2.41278434e-01,\n",
       "         3.07743773e-01, -2.09905864e-01],\n",
       "       [ 2.41278434e-01, -3.00869286e-01,  1.33899429e-01,\n",
       "         1.33899429e-01, -3.00869286e-01,  2.41278434e-01,\n",
       "         7.58395752e-16, -2.41278434e-01,  3.00869286e-01,\n",
       "        -1.33899429e-01, -1.33899429e-01,  3.00869286e-01,\n",
       "        -2.41278434e-01, -5.01869228e-16,  2.41278434e-01,\n",
       "        -3.00869286e-01,  1.33899429e-01,  1.33899429e-01,\n",
       "        -3.00869286e-01,  2.41278434e-01],\n",
       "       [ 2.67261242e-01, -2.67261242e-01, -1.46868794e-16,\n",
       "         2.67261242e-01, -2.67261242e-01, -5.84213638e-16,\n",
       "         2.67261242e-01, -2.67261242e-01, -5.42829831e-16,\n",
       "         2.67261242e-01, -2.67261242e-01, -4.44836913e-16,\n",
       "         2.67261242e-01, -2.67261242e-01, -5.69722152e-16,\n",
       "         2.67261242e-01, -2.67261242e-01, -2.90472138e-16,\n",
       "         2.67261242e-01, -2.67261242e-01],\n",
       "       [ 2.87273876e-01, -2.09905864e-01, -1.33899429e-01,\n",
       "         3.07743773e-01, -9.09634217e-02, -2.41278434e-01,\n",
       "         2.67261242e-01,  4.59954419e-02, -3.00869286e-01,\n",
       "         1.73844344e-01,  1.73844344e-01, -3.00869286e-01,\n",
       "         4.59954419e-02,  2.67261242e-01, -2.41278434e-01,\n",
       "        -9.09634217e-02,  3.07743773e-01, -1.33899429e-01,\n",
       "        -2.09905864e-01,  2.87273876e-01],\n",
       "       [ 3.00869286e-01, -1.33899429e-01, -2.41278434e-01,\n",
       "         2.41278434e-01,  1.33899429e-01, -3.00869286e-01,\n",
       "         8.13498048e-16,  3.00869286e-01, -1.33899429e-01,\n",
       "        -2.41278434e-01,  2.41278434e-01,  1.33899429e-01,\n",
       "        -3.00869286e-01,  6.08061983e-16,  3.00869286e-01,\n",
       "        -1.33899429e-01, -2.41278434e-01,  2.41278434e-01,\n",
       "         1.33899429e-01, -3.00869286e-01],\n",
       "       [ 3.07743773e-01, -4.59954419e-02, -3.00869286e-01,\n",
       "         9.09634217e-02,  2.87273876e-01, -1.33899429e-01,\n",
       "        -2.67261242e-01,  1.73844344e-01,  2.41278434e-01,\n",
       "        -2.09905864e-01, -2.09905864e-01,  2.41278434e-01,\n",
       "         1.73844344e-01, -2.67261242e-01, -1.33899429e-01,\n",
       "         2.87273876e-01,  9.09634217e-02, -3.00869286e-01,\n",
       "        -4.59954419e-02,  3.07743773e-01],\n",
       "       [-3.07743773e-01, -4.59954419e-02,  3.00869286e-01,\n",
       "         9.09634217e-02, -2.87273876e-01, -1.33899429e-01,\n",
       "         2.67261242e-01,  1.73844344e-01, -2.41278434e-01,\n",
       "        -2.09905864e-01,  2.09905864e-01,  2.41278434e-01,\n",
       "        -1.73844344e-01, -2.67261242e-01,  1.33899429e-01,\n",
       "         2.87273876e-01, -9.09634217e-02, -3.00869286e-01,\n",
       "         4.59954419e-02,  3.07743773e-01],\n",
       "       [-3.00869286e-01, -1.33899429e-01,  2.41278434e-01,\n",
       "         2.41278434e-01, -1.33899429e-01, -3.00869286e-01,\n",
       "         2.93637008e-16,  3.00869286e-01,  1.33899429e-01,\n",
       "        -2.41278434e-01, -2.41278434e-01,  1.33899429e-01,\n",
       "         3.00869286e-01,  8.00224457e-18, -3.00869286e-01,\n",
       "        -1.33899429e-01,  2.41278434e-01,  2.41278434e-01,\n",
       "        -1.33899429e-01, -3.00869286e-01],\n",
       "       [-2.87273876e-01, -2.09905864e-01,  1.33899429e-01,\n",
       "         3.07743773e-01,  9.09634217e-02, -2.41278434e-01,\n",
       "        -2.67261242e-01,  4.59954419e-02,  3.00869286e-01,\n",
       "         1.73844344e-01, -1.73844344e-01, -3.00869286e-01,\n",
       "        -4.59954419e-02,  2.67261242e-01,  2.41278434e-01,\n",
       "        -9.09634217e-02, -3.07743773e-01, -1.33899429e-01,\n",
       "         2.09905864e-01,  2.87273876e-01],\n",
       "       [-2.67261242e-01, -2.67261242e-01, -1.71309521e-16,\n",
       "         2.67261242e-01,  2.67261242e-01,  2.22371245e-16,\n",
       "        -2.67261242e-01, -2.67261242e-01, -6.24043450e-16,\n",
       "         2.67261242e-01,  2.67261242e-01,  9.53536224e-16,\n",
       "        -2.67261242e-01, -2.67261242e-01, -1.03931727e-15,\n",
       "         2.67261242e-01,  2.67261242e-01,  2.59912101e-16,\n",
       "        -2.67261242e-01, -2.67261242e-01],\n",
       "       [-2.41278434e-01, -3.00869286e-01, -1.33899429e-01,\n",
       "         1.33899429e-01,  3.00869286e-01,  2.41278434e-01,\n",
       "        -1.72269615e-16, -2.41278434e-01, -3.00869286e-01,\n",
       "        -1.33899429e-01,  1.33899429e-01,  3.00869286e-01,\n",
       "         2.41278434e-01,  2.89745028e-16, -2.41278434e-01,\n",
       "        -3.00869286e-01, -1.33899429e-01,  1.33899429e-01,\n",
       "         3.00869286e-01,  2.41278434e-01],\n",
       "       [-2.09905864e-01, -3.07743773e-01, -2.41278434e-01,\n",
       "        -4.59954419e-02,  1.73844344e-01,  3.00869286e-01,\n",
       "         2.67261242e-01,  9.09634217e-02, -1.33899429e-01,\n",
       "        -2.87273876e-01, -2.87273876e-01, -1.33899429e-01,\n",
       "         9.09634217e-02,  2.67261242e-01,  3.00869286e-01,\n",
       "         1.73844344e-01, -4.59954419e-02, -2.41278434e-01,\n",
       "        -3.07743773e-01, -2.09905864e-01],\n",
       "       [-1.73844344e-01, -2.87273876e-01, -3.00869286e-01,\n",
       "        -2.09905864e-01, -4.59954419e-02,  1.33899429e-01,\n",
       "         2.67261242e-01,  3.07743773e-01,  2.41278434e-01,\n",
       "         9.09634217e-02, -9.09634217e-02, -2.41278434e-01,\n",
       "        -3.07743773e-01, -2.67261242e-01, -1.33899429e-01,\n",
       "         4.59954419e-02,  2.09905864e-01,  3.00869286e-01,\n",
       "         2.87273876e-01,  1.73844344e-01],\n",
       "       [-1.33899429e-01, -2.41278434e-01, -3.00869286e-01,\n",
       "        -3.00869286e-01, -2.41278434e-01, -1.33899429e-01,\n",
       "         1.66230610e-15,  1.33899429e-01,  2.41278434e-01,\n",
       "         3.00869286e-01,  3.00869286e-01,  2.41278434e-01,\n",
       "         1.33899429e-01, -6.26076492e-16, -1.33899429e-01,\n",
       "        -2.41278434e-01, -3.00869286e-01, -3.00869286e-01,\n",
       "        -2.41278434e-01, -1.33899429e-01],\n",
       "       [ 9.09634217e-02,  1.73844344e-01,  2.41278434e-01,\n",
       "         2.87273876e-01,  3.07743773e-01,  3.00869286e-01,\n",
       "         2.67261242e-01,  2.09905864e-01,  1.33899429e-01,\n",
       "         4.59954419e-02, -4.59954419e-02, -1.33899429e-01,\n",
       "        -2.09905864e-01, -2.67261242e-01, -3.00869286e-01,\n",
       "        -3.07743773e-01, -2.87273876e-01, -2.41278434e-01,\n",
       "        -1.73844344e-01, -9.09634217e-02],\n",
       "       [-4.59954419e-02, -9.09634217e-02, -1.33899429e-01,\n",
       "        -1.73844344e-01, -2.09905864e-01, -2.41278434e-01,\n",
       "        -2.67261242e-01, -2.87273876e-01, -3.00869286e-01,\n",
       "        -3.07743773e-01, -3.07743773e-01, -3.00869286e-01,\n",
       "        -2.87273876e-01, -2.67261242e-01, -2.41278434e-01,\n",
       "        -2.09905864e-01, -1.73844344e-01, -1.33899429e-01,\n",
       "        -9.09634217e-02, -4.59954419e-02]])"
      ]
     },
     "execution_count": 9,
     "metadata": {},
     "output_type": "execute_result"
    }
   ],
   "source": [
    "V_t  # Transpose of V"
   ]
  },
  {
   "cell_type": "code",
   "execution_count": 10,
   "metadata": {
    "colab": {
     "base_uri": "https://localhost:8080/"
    },
    "id": "DKddPz-QMYc0",
    "outputId": "3698817f-a24d-4647-de11-271f45c5fa50"
   },
   "outputs": [
    {
     "data": {
      "text/plain": [
       "array([[ 5, -4,  1,  0,  0,  0,  0,  0,  0,  0,  0,  0,  0,  0,  0,  0,\n",
       "         0,  0,  0,  0],\n",
       "       [-4,  6, -4,  1,  0,  0,  0,  0,  0,  0,  0,  0,  0,  0,  0,  0,\n",
       "         0,  0,  0,  0],\n",
       "       [ 1, -4,  6, -4,  1,  0,  0,  0,  0,  0,  0,  0,  0,  0,  0,  0,\n",
       "         0,  0,  0,  0],\n",
       "       [ 0,  1, -4,  6, -4,  1,  0,  0,  0,  0,  0,  0,  0,  0,  0,  0,\n",
       "         0,  0,  0,  0],\n",
       "       [ 0,  0,  1, -4,  6, -4,  1,  0,  0,  0,  0,  0,  0,  0,  0,  0,\n",
       "         0,  0,  0,  0],\n",
       "       [ 0,  0,  0,  1, -4,  6, -4,  1,  0,  0,  0,  0,  0,  0,  0,  0,\n",
       "         0,  0,  0,  0],\n",
       "       [ 0,  0,  0,  0,  1, -4,  6, -4,  1,  0,  0,  0,  0,  0,  0,  0,\n",
       "         0,  0,  0,  0],\n",
       "       [ 0,  0,  0,  0,  0,  1, -4,  6, -4,  1,  0,  0,  0,  0,  0,  0,\n",
       "         0,  0,  0,  0],\n",
       "       [ 0,  0,  0,  0,  0,  0,  1, -4,  6, -4,  1,  0,  0,  0,  0,  0,\n",
       "         0,  0,  0,  0],\n",
       "       [ 0,  0,  0,  0,  0,  0,  0,  1, -4,  6, -4,  1,  0,  0,  0,  0,\n",
       "         0,  0,  0,  0],\n",
       "       [ 0,  0,  0,  0,  0,  0,  0,  0,  1, -4,  6, -4,  1,  0,  0,  0,\n",
       "         0,  0,  0,  0],\n",
       "       [ 0,  0,  0,  0,  0,  0,  0,  0,  0,  1, -4,  6, -4,  1,  0,  0,\n",
       "         0,  0,  0,  0],\n",
       "       [ 0,  0,  0,  0,  0,  0,  0,  0,  0,  0,  1, -4,  6, -4,  1,  0,\n",
       "         0,  0,  0,  0],\n",
       "       [ 0,  0,  0,  0,  0,  0,  0,  0,  0,  0,  0,  1, -4,  6, -4,  1,\n",
       "         0,  0,  0,  0],\n",
       "       [ 0,  0,  0,  0,  0,  0,  0,  0,  0,  0,  0,  0,  1, -4,  6, -4,\n",
       "         1,  0,  0,  0],\n",
       "       [ 0,  0,  0,  0,  0,  0,  0,  0,  0,  0,  0,  0,  0,  1, -4,  6,\n",
       "        -4,  1,  0,  0],\n",
       "       [ 0,  0,  0,  0,  0,  0,  0,  0,  0,  0,  0,  0,  0,  0,  1, -4,\n",
       "         6, -4,  1,  0],\n",
       "       [ 0,  0,  0,  0,  0,  0,  0,  0,  0,  0,  0,  0,  0,  0,  0,  1,\n",
       "        -4,  6, -4,  1],\n",
       "       [ 0,  0,  0,  0,  0,  0,  0,  0,  0,  0,  0,  0,  0,  0,  0,  0,\n",
       "         1, -4,  6, -4],\n",
       "       [ 0,  0,  0,  0,  0,  0,  0,  0,  0,  0,  0,  0,  0,  0,  0,  0,\n",
       "         0,  1, -4,  5]])"
      ]
     },
     "execution_count": 10,
     "metadata": {},
     "output_type": "execute_result"
    }
   ],
   "source": [
    "svd = A.T @ A \n",
    "svd"
   ]
  },
  {
   "cell_type": "markdown",
   "metadata": {
    "id": "yhtHfZPhS9PL"
   },
   "source": [
    "Singular values are  square root of eigenvalues of A_T*A"
   ]
  },
  {
   "cell_type": "code",
   "execution_count": 11,
   "metadata": {
    "colab": {
     "base_uri": "https://localhost:8080/"
    },
    "id": "s4qTnCwYObNZ",
    "outputId": "e760396d-e977-4890-b580-5e9b843c3d58"
   },
   "outputs": [
    {
     "data": {
      "text/plain": [
       "array([1.58217922e+01, 1.52970600e+01, 1.44547305e+01, 1.33405922e+01,\n",
       "       1.20138752e+01, 1.05428765e+01, 9.00000000e+00, 7.45662445e+00,\n",
       "       5.97822974e+00, 4.62017910e+00, 3.42449760e+00, 2.41789479e+00,\n",
       "       1.61116806e+00, 1.00000000e+00, 5.67039717e-01, 2.85045213e-01,\n",
       "       1.20771854e-01, 3.92286605e-02, 7.89510234e-03, 4.99001771e-04])"
      ]
     },
     "execution_count": 11,
     "metadata": {},
     "output_type": "execute_result"
    }
   ],
   "source": [
    "np.linalg.eigvals(svd) # finding the eigenvalues of A_T * A"
   ]
  },
  {
   "cell_type": "code",
   "execution_count": 12,
   "metadata": {
    "colab": {
     "base_uri": "https://localhost:8080/"
    },
    "id": "_j37EUpYOwoC",
    "outputId": "7cec704b-e2a6-4c20-f443-f2b93dbd7807"
   },
   "outputs": [
    {
     "data": {
      "text/plain": [
       "array([3.97766165, 3.91114561, 3.80193774, 3.65247755, 3.46610374,\n",
       "       3.2469796 , 3.        , 2.73068205, 2.44504187, 2.14946019,\n",
       "       1.85053981, 1.55495813, 1.26931795, 1.        , 0.7530204 ,\n",
       "       0.53389626, 0.34752245, 0.19806226, 0.08885439, 0.02233835])"
      ]
     },
     "execution_count": 12,
     "metadata": {},
     "output_type": "execute_result"
    }
   ],
   "source": [
    "np.sqrt(np.linalg.eigvals(svd)) # finding the singular values of A or S matrix already show singular values of A"
   ]
  },
  {
   "cell_type": "markdown",
   "metadata": {
    "id": "iGO6PU29uixP"
   },
   "source": [
    "If we review singular values, we conclude singular values are equal to eigenvalues. Since our toeplitz matrix is real,symmetric and positive definite."
   ]
  },
  {
   "cell_type": "markdown",
   "metadata": {},
   "source": [
    "## Rank k Approximtaion"
   ]
  },
  {
   "cell_type": "markdown",
   "metadata": {
    "id": "1T4Ah1TJGPkT"
   },
   "source": [
    "Computing a rank-k approximation of a matrix A is:\n",
    "\n",
    " (i) express A as a list of its ingredients, ordered by “importance;” \n",
    " \n",
    " (ii) keep only the k most important\n",
    "ingredients. The non-trivial step (i) is made easy by the singular value decomposition\n",
    "\n",
    "(iii) At every k.step, get A_kwhich is rank-k approximation derived from the SVD of A\n",
    "\n",
    "(iv) Then apply \"Frobenius norm\" such that || A-Ak||"
   ]
  },
  {
   "cell_type": "code",
   "execution_count": 23,
   "metadata": {
    "id": "z9XqJfHC1GT3"
   },
   "outputs": [],
   "source": [
    "def rank_approx(A):\n",
    "\n",
    "    u, s, v = np.linalg.svd(A)\n",
    "    Ak = np.zeros((len(u), len(v)))\n",
    "    for k in range(20):\n",
    "        Ak += s[k] * np.outer(u.T[k], v[k]) # A_k =  s_k * u_k * vt_k where i=1,...,k\n",
    "        error = np.linalg.norm(A - Ak, 'fro')\n",
    "        k=k+1\n",
    "        print(k,error) \n"
   ]
  },
  {
   "cell_type": "code",
   "execution_count": 24,
   "metadata": {
    "colab": {
     "base_uri": "https://localhost:8080/"
    },
    "id": "0bvVZTwW6yUL",
    "outputId": "ad7c5372-d886-4bc5-8dee-0d02fb47da58"
   },
   "outputs": [
    {
     "name": "stdout",
     "output_type": "stream",
     "text": [
      "1 10.108323687863713\n",
      "2 9.321005728123204\n",
      "3 8.510371157403698\n",
      "4 7.686730448864979\n",
      "5 6.86090007445791\n",
      "6 6.043928630017012\n",
      "7 5.246815537517904\n",
      "8 4.480228658614179\n",
      "9 3.754226830869723\n",
      "10 3.077992852717658\n",
      "11 2.4595817535757245\n",
      "12 1.9056882247571325\n",
      "13 1.421435734941542\n",
      "14 1.0101878778567892\n",
      "15 0.673379411143005\n",
      "16 0.4103591339510578\n",
      "17 0.2182264067711125\n",
      "18 0.09161934355864498\n",
      "19 0.0223383475497429\n",
      "20 1.4794025049036244e-14\n"
     ]
    }
   ],
   "source": [
    "\n",
    "rank_approx(A)"
   ]
  },
  {
   "cell_type": "code",
   "execution_count": 25,
   "metadata": {
    "colab": {
     "base_uri": "https://localhost:8080/",
     "height": 295
    },
    "id": "Qom2RApFAzK1",
    "outputId": "c613783d-ddc7-4053-f015-c7d0023ff8ac"
   },
   "outputs": [
    {
     "data": {
      "image/png": "[encoded data removed]",
      "text/plain": [
       "<Figure size 640x480 with 1 Axes>"
      ]
     },
     "metadata": {},
     "output_type": "display_data"
    }
   ],
   "source": [
    "\n",
    "# importing the library\n",
    "import matplotlib.pyplot as plt\n",
    " \n",
    "# data to be plotted\n",
    "x = np.arange(1, 21,1)\n",
    "y = np.array([10.11, 9.32, 8.51, 7.69, 6.86, 6.04, 5.25, 4.48, 3.75, 3.08, 2.46, 1.90,1.42,1.01,0.67,0.41,0.22,0.09, 0.02,0])\n",
    " \n",
    "# plotting\n",
    "plt.title(\"Low rank approach\")\n",
    "plt.xlabel(\"k\")\n",
    "plt.ylabel(\"||A-Ak||\")\n",
    "plt.plot(x, y, color =\"green\")\n",
    "plt.show()"
   ]
  },
  {
   "cell_type": "code",
   "execution_count": null,
   "metadata": {},
   "outputs": [],
   "source": []
  }
 ],
 "metadata": {
  "colab": {
   "provenance": []
  },
  "kernelspec": {
   "display_name": "Python 3 (ipykernel)",
   "language": "python",
   "name": "python3"
  },
  "language_info": {
   "codemirror_mode": {
    "name": "ipython",
    "version": 3
   },
   "file_extension": ".py",
   "mimetype": "text/x-python",
   "name": "python",
   "nbconvert_exporter": "python",
   "pygments_lexer": "ipython3",
   "version": "3.11.4"
  }
 },
 "nbformat": 4,
 "nbformat_minor": 1
}
